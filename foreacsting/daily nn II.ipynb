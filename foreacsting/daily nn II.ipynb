{
 "cells": [
  {
   "cell_type": "code",
   "execution_count": 1,
   "id": "26ced96f-f076-4e5d-b223-778d4b44bc98",
   "metadata": {},
   "outputs": [],
   "source": [
    "import yfinance as yf"
   ]
  },
  {
   "cell_type": "code",
   "execution_count": 2,
   "id": "739f6cb8-fd59-462e-869e-d6181d4173d0",
   "metadata": {},
   "outputs": [
    {
     "name": "stderr",
     "output_type": "stream",
     "text": [
      "[*********************100%%**********************]  1 of 1 completed\n",
      "[*********************100%%**********************]  1 of 1 completed\n"
     ]
    }
   ],
   "source": [
    "gold = yf.download('gld', '2018-01-01', '2022-01-01')\n",
    "jewelry = yf.download('pandy', '2018-01-01', '2022-01-01')"
   ]
  },
  {
   "cell_type": "code",
   "execution_count": 3,
   "id": "7f6fa130-48be-449e-a63b-6dd5f932dc80",
   "metadata": {},
   "outputs": [
    {
     "data": {
      "text/html": [
       "<div>\n",
       "<style scoped>\n",
       "    .dataframe tbody tr th:only-of-type {\n",
       "        vertical-align: middle;\n",
       "    }\n",
       "\n",
       "    .dataframe tbody tr th {\n",
       "        vertical-align: top;\n",
       "    }\n",
       "\n",
       "    .dataframe thead th {\n",
       "        text-align: right;\n",
       "    }\n",
       "</style>\n",
       "<table border=\"1\" class=\"dataframe\">\n",
       "  <thead>\n",
       "    <tr style=\"text-align: right;\">\n",
       "      <th></th>\n",
       "      <th>Open</th>\n",
       "      <th>High</th>\n",
       "      <th>Low</th>\n",
       "      <th>Close</th>\n",
       "      <th>Adj Close</th>\n",
       "      <th>Volume</th>\n",
       "    </tr>\n",
       "    <tr>\n",
       "      <th>Date</th>\n",
       "      <th></th>\n",
       "      <th></th>\n",
       "      <th></th>\n",
       "      <th></th>\n",
       "      <th></th>\n",
       "      <th></th>\n",
       "    </tr>\n",
       "  </thead>\n",
       "  <tbody>\n",
       "    <tr>\n",
       "      <th>2018-01-02</th>\n",
       "      <td>124.660004</td>\n",
       "      <td>125.180000</td>\n",
       "      <td>124.389999</td>\n",
       "      <td>125.150002</td>\n",
       "      <td>125.150002</td>\n",
       "      <td>11762500</td>\n",
       "    </tr>\n",
       "    <tr>\n",
       "      <th>2018-01-03</th>\n",
       "      <td>125.050003</td>\n",
       "      <td>125.089996</td>\n",
       "      <td>124.099998</td>\n",
       "      <td>124.820000</td>\n",
       "      <td>124.820000</td>\n",
       "      <td>7904300</td>\n",
       "    </tr>\n",
       "    <tr>\n",
       "      <th>2018-01-04</th>\n",
       "      <td>124.889999</td>\n",
       "      <td>125.849998</td>\n",
       "      <td>124.739998</td>\n",
       "      <td>125.459999</td>\n",
       "      <td>125.459999</td>\n",
       "      <td>7329700</td>\n",
       "    </tr>\n",
       "    <tr>\n",
       "      <th>2018-01-05</th>\n",
       "      <td>124.930000</td>\n",
       "      <td>125.480003</td>\n",
       "      <td>124.830002</td>\n",
       "      <td>125.330002</td>\n",
       "      <td>125.330002</td>\n",
       "      <td>5739900</td>\n",
       "    </tr>\n",
       "    <tr>\n",
       "      <th>2018-01-08</th>\n",
       "      <td>125.199997</td>\n",
       "      <td>125.320000</td>\n",
       "      <td>124.900002</td>\n",
       "      <td>125.309998</td>\n",
       "      <td>125.309998</td>\n",
       "      <td>3566700</td>\n",
       "    </tr>\n",
       "    <tr>\n",
       "      <th>...</th>\n",
       "      <td>...</td>\n",
       "      <td>...</td>\n",
       "      <td>...</td>\n",
       "      <td>...</td>\n",
       "      <td>...</td>\n",
       "      <td>...</td>\n",
       "    </tr>\n",
       "    <tr>\n",
       "      <th>2021-12-27</th>\n",
       "      <td>168.960007</td>\n",
       "      <td>169.419998</td>\n",
       "      <td>168.779999</td>\n",
       "      <td>169.369995</td>\n",
       "      <td>169.369995</td>\n",
       "      <td>4760300</td>\n",
       "    </tr>\n",
       "    <tr>\n",
       "      <th>2021-12-28</th>\n",
       "      <td>169.330002</td>\n",
       "      <td>169.649994</td>\n",
       "      <td>168.619995</td>\n",
       "      <td>168.639999</td>\n",
       "      <td>168.639999</td>\n",
       "      <td>4541900</td>\n",
       "    </tr>\n",
       "    <tr>\n",
       "      <th>2021-12-29</th>\n",
       "      <td>167.360001</td>\n",
       "      <td>168.690002</td>\n",
       "      <td>167.279999</td>\n",
       "      <td>168.589996</td>\n",
       "      <td>168.589996</td>\n",
       "      <td>5889700</td>\n",
       "    </tr>\n",
       "    <tr>\n",
       "      <th>2021-12-30</th>\n",
       "      <td>168.429993</td>\n",
       "      <td>169.809998</td>\n",
       "      <td>168.369995</td>\n",
       "      <td>169.800003</td>\n",
       "      <td>169.800003</td>\n",
       "      <td>5426300</td>\n",
       "    </tr>\n",
       "    <tr>\n",
       "      <th>2021-12-31</th>\n",
       "      <td>170.529999</td>\n",
       "      <td>171.039993</td>\n",
       "      <td>170.039993</td>\n",
       "      <td>170.960007</td>\n",
       "      <td>170.960007</td>\n",
       "      <td>7039300</td>\n",
       "    </tr>\n",
       "  </tbody>\n",
       "</table>\n",
       "<p>1008 rows × 6 columns</p>\n",
       "</div>"
      ],
      "text/plain": [
       "                  Open        High         Low       Close   Adj Close  \\\n",
       "Date                                                                     \n",
       "2018-01-02  124.660004  125.180000  124.389999  125.150002  125.150002   \n",
       "2018-01-03  125.050003  125.089996  124.099998  124.820000  124.820000   \n",
       "2018-01-04  124.889999  125.849998  124.739998  125.459999  125.459999   \n",
       "2018-01-05  124.930000  125.480003  124.830002  125.330002  125.330002   \n",
       "2018-01-08  125.199997  125.320000  124.900002  125.309998  125.309998   \n",
       "...                ...         ...         ...         ...         ...   \n",
       "2021-12-27  168.960007  169.419998  168.779999  169.369995  169.369995   \n",
       "2021-12-28  169.330002  169.649994  168.619995  168.639999  168.639999   \n",
       "2021-12-29  167.360001  168.690002  167.279999  168.589996  168.589996   \n",
       "2021-12-30  168.429993  169.809998  168.369995  169.800003  169.800003   \n",
       "2021-12-31  170.529999  171.039993  170.039993  170.960007  170.960007   \n",
       "\n",
       "              Volume  \n",
       "Date                  \n",
       "2018-01-02  11762500  \n",
       "2018-01-03   7904300  \n",
       "2018-01-04   7329700  \n",
       "2018-01-05   5739900  \n",
       "2018-01-08   3566700  \n",
       "...              ...  \n",
       "2021-12-27   4760300  \n",
       "2021-12-28   4541900  \n",
       "2021-12-29   5889700  \n",
       "2021-12-30   5426300  \n",
       "2021-12-31   7039300  \n",
       "\n",
       "[1008 rows x 6 columns]"
      ]
     },
     "execution_count": 3,
     "metadata": {},
     "output_type": "execute_result"
    }
   ],
   "source": [
    "gold"
   ]
  },
  {
   "cell_type": "code",
   "execution_count": 4,
   "id": "0b82c6ed-5348-44eb-9dfc-d700a81abe52",
   "metadata": {},
   "outputs": [
    {
     "data": {
      "text/html": [
       "<div>\n",
       "<style scoped>\n",
       "    .dataframe tbody tr th:only-of-type {\n",
       "        vertical-align: middle;\n",
       "    }\n",
       "\n",
       "    .dataframe tbody tr th {\n",
       "        vertical-align: top;\n",
       "    }\n",
       "\n",
       "    .dataframe thead th {\n",
       "        text-align: right;\n",
       "    }\n",
       "</style>\n",
       "<table border=\"1\" class=\"dataframe\">\n",
       "  <thead>\n",
       "    <tr style=\"text-align: right;\">\n",
       "      <th></th>\n",
       "      <th>Open</th>\n",
       "      <th>High</th>\n",
       "      <th>Low</th>\n",
       "      <th>Close</th>\n",
       "      <th>Adj Close</th>\n",
       "      <th>Volume</th>\n",
       "    </tr>\n",
       "    <tr>\n",
       "      <th>Date</th>\n",
       "      <th></th>\n",
       "      <th></th>\n",
       "      <th></th>\n",
       "      <th></th>\n",
       "      <th></th>\n",
       "      <th></th>\n",
       "    </tr>\n",
       "  </thead>\n",
       "  <tbody>\n",
       "    <tr>\n",
       "      <th>2018-01-02</th>\n",
       "      <td>27.080000</td>\n",
       "      <td>27.160000</td>\n",
       "      <td>27.040001</td>\n",
       "      <td>27.070000</td>\n",
       "      <td>21.606445</td>\n",
       "      <td>26300</td>\n",
       "    </tr>\n",
       "    <tr>\n",
       "      <th>2018-01-03</th>\n",
       "      <td>27.290001</td>\n",
       "      <td>27.320000</td>\n",
       "      <td>27.160000</td>\n",
       "      <td>27.290001</td>\n",
       "      <td>21.782045</td>\n",
       "      <td>24300</td>\n",
       "    </tr>\n",
       "    <tr>\n",
       "      <th>2018-01-04</th>\n",
       "      <td>27.270000</td>\n",
       "      <td>27.549999</td>\n",
       "      <td>27.270000</td>\n",
       "      <td>27.440001</td>\n",
       "      <td>21.901772</td>\n",
       "      <td>18300</td>\n",
       "    </tr>\n",
       "    <tr>\n",
       "      <th>2018-01-05</th>\n",
       "      <td>27.180000</td>\n",
       "      <td>27.299999</td>\n",
       "      <td>27.170000</td>\n",
       "      <td>27.299999</td>\n",
       "      <td>21.790028</td>\n",
       "      <td>17800</td>\n",
       "    </tr>\n",
       "    <tr>\n",
       "      <th>2018-01-08</th>\n",
       "      <td>27.059999</td>\n",
       "      <td>27.250000</td>\n",
       "      <td>27.059999</td>\n",
       "      <td>27.230000</td>\n",
       "      <td>21.734152</td>\n",
       "      <td>23000</td>\n",
       "    </tr>\n",
       "    <tr>\n",
       "      <th>...</th>\n",
       "      <td>...</td>\n",
       "      <td>...</td>\n",
       "      <td>...</td>\n",
       "      <td>...</td>\n",
       "      <td>...</td>\n",
       "      <td>...</td>\n",
       "    </tr>\n",
       "    <tr>\n",
       "      <th>2021-12-27</th>\n",
       "      <td>31.020000</td>\n",
       "      <td>31.450001</td>\n",
       "      <td>30.760000</td>\n",
       "      <td>30.910000</td>\n",
       "      <td>28.813927</td>\n",
       "      <td>25300</td>\n",
       "    </tr>\n",
       "    <tr>\n",
       "      <th>2021-12-28</th>\n",
       "      <td>31.330000</td>\n",
       "      <td>31.660000</td>\n",
       "      <td>31.070000</td>\n",
       "      <td>31.400000</td>\n",
       "      <td>29.270697</td>\n",
       "      <td>3800</td>\n",
       "    </tr>\n",
       "    <tr>\n",
       "      <th>2021-12-29</th>\n",
       "      <td>31.270000</td>\n",
       "      <td>31.570000</td>\n",
       "      <td>31.270000</td>\n",
       "      <td>31.410000</td>\n",
       "      <td>29.280020</td>\n",
       "      <td>4500</td>\n",
       "    </tr>\n",
       "    <tr>\n",
       "      <th>2021-12-30</th>\n",
       "      <td>31.070000</td>\n",
       "      <td>31.070000</td>\n",
       "      <td>30.940001</td>\n",
       "      <td>31.059999</td>\n",
       "      <td>28.953754</td>\n",
       "      <td>2600</td>\n",
       "    </tr>\n",
       "    <tr>\n",
       "      <th>2021-12-31</th>\n",
       "      <td>31.170000</td>\n",
       "      <td>31.320000</td>\n",
       "      <td>31.120001</td>\n",
       "      <td>31.270000</td>\n",
       "      <td>29.149513</td>\n",
       "      <td>4700</td>\n",
       "    </tr>\n",
       "  </tbody>\n",
       "</table>\n",
       "<p>1008 rows × 6 columns</p>\n",
       "</div>"
      ],
      "text/plain": [
       "                 Open       High        Low      Close  Adj Close  Volume\n",
       "Date                                                                     \n",
       "2018-01-02  27.080000  27.160000  27.040001  27.070000  21.606445   26300\n",
       "2018-01-03  27.290001  27.320000  27.160000  27.290001  21.782045   24300\n",
       "2018-01-04  27.270000  27.549999  27.270000  27.440001  21.901772   18300\n",
       "2018-01-05  27.180000  27.299999  27.170000  27.299999  21.790028   17800\n",
       "2018-01-08  27.059999  27.250000  27.059999  27.230000  21.734152   23000\n",
       "...               ...        ...        ...        ...        ...     ...\n",
       "2021-12-27  31.020000  31.450001  30.760000  30.910000  28.813927   25300\n",
       "2021-12-28  31.330000  31.660000  31.070000  31.400000  29.270697    3800\n",
       "2021-12-29  31.270000  31.570000  31.270000  31.410000  29.280020    4500\n",
       "2021-12-30  31.070000  31.070000  30.940001  31.059999  28.953754    2600\n",
       "2021-12-31  31.170000  31.320000  31.120001  31.270000  29.149513    4700\n",
       "\n",
       "[1008 rows x 6 columns]"
      ]
     },
     "execution_count": 4,
     "metadata": {},
     "output_type": "execute_result"
    }
   ],
   "source": [
    "jewelry"
   ]
  },
  {
   "cell_type": "code",
   "execution_count": 5,
   "id": "c66bea98-5795-4b27-96e5-a59da4afbe0a",
   "metadata": {},
   "outputs": [
    {
     "name": "stderr",
     "output_type": "stream",
     "text": [
      "/run/user/1000/app/org.jupyter.JupyterLab/ipykernel_408/4020193505.py:1: FutureWarning: Series.__getitem__ treating keys as positions is deprecated. In a future version, integer keys will always be treated as labels (consistent with DataFrame behavior). To access a value by position, use `ser.iloc[pos]`\n",
      "  data = [[jewelry['Adj Close'][i], gold['Adj Close'][i]] for i in range(len(gold))]\n"
     ]
    }
   ],
   "source": [
    "data = [[jewelry['Adj Close'][i], gold['Adj Close'][i]] for i in range(len(gold))]"
   ]
  },
  {
   "cell_type": "code",
   "execution_count": 6,
   "id": "6e384f88-0361-4874-9cdd-5504f298765a",
   "metadata": {},
   "outputs": [
    {
     "name": "stderr",
     "output_type": "stream",
     "text": [
      "2024-04-28 21:29:56.040262: I tensorflow/core/util/port.cc:113] oneDNN custom operations are on. You may see slightly different numerical results due to floating-point round-off errors from different computation orders. To turn them off, set the environment variable `TF_ENABLE_ONEDNN_OPTS=0`.\n",
      "2024-04-28 21:29:56.040502: I external/local_tsl/tsl/cuda/cudart_stub.cc:32] Could not find cuda drivers on your machine, GPU will not be used.\n",
      "2024-04-28 21:29:56.119837: I external/local_tsl/tsl/cuda/cudart_stub.cc:32] Could not find cuda drivers on your machine, GPU will not be used.\n",
      "2024-04-28 21:29:56.347408: I tensorflow/core/platform/cpu_feature_guard.cc:210] This TensorFlow binary is optimized to use available CPU instructions in performance-critical operations.\n",
      "To enable the following instructions: AVX2 AVX_VNNI FMA, in other operations, rebuild TensorFlow with the appropriate compiler flags.\n",
      "2024-04-28 21:29:57.198633: W tensorflow/compiler/tf2tensorrt/utils/py_utils.cc:38] TF-TRT Warning: Could not find TensorRT\n"
     ]
    }
   ],
   "source": [
    "from CNN_test2 import test_CNN"
   ]
  },
  {
   "cell_type": "code",
   "execution_count": 7,
   "id": "839326b6-eac5-4465-b6f7-e5877376014a",
   "metadata": {},
   "outputs": [
    {
     "name": "stdout",
     "output_type": "stream",
     "text": [
      "806\n",
      "(50, 2)\n",
      "Epoch 1/10\n"
     ]
    },
    {
     "name": "stderr",
     "output_type": "stream",
     "text": [
      "/home/tea/.var/app/org.jupyter.JupyterLab/config/jupyterlab-desktop/jlab_server/lib/python3.12/site-packages/keras/src/layers/convolutional/base_conv.py:107: UserWarning: Do not pass an `input_shape`/`input_dim` argument to a layer. When using Sequential models, prefer using an `Input(shape)` object as the first layer in the model instead.\n",
      "  super().__init__(activity_regularizer=activity_regularizer, **kwargs)\n"
     ]
    },
    {
     "name": "stdout",
     "output_type": "stream",
     "text": [
      "48/48 - 1s - 11ms/step - loss: 603.3428\n",
      "Epoch 2/10\n",
      "48/48 - 0s - 1ms/step - loss: 20.3005\n",
      "Epoch 3/10\n",
      "48/48 - 0s - 1ms/step - loss: 14.9140\n",
      "Epoch 4/10\n",
      "48/48 - 0s - 2ms/step - loss: 12.4021\n",
      "Epoch 5/10\n",
      "48/48 - 0s - 1ms/step - loss: 11.8348\n",
      "Epoch 6/10\n",
      "48/48 - 0s - 1ms/step - loss: 11.6363\n",
      "Epoch 7/10\n",
      "48/48 - 0s - 1ms/step - loss: 11.3375\n",
      "Epoch 8/10\n",
      "48/48 - 0s - 1ms/step - loss: 11.6220\n",
      "Epoch 9/10\n",
      "48/48 - 0s - 1ms/step - loss: 10.4745\n",
      "Epoch 10/10\n",
      "48/48 - 0s - 1ms/step - loss: 9.9398\n",
      "\u001b[1m5/5\u001b[0m \u001b[32m━━━━━━━━━━━━━━━━━━━━\u001b[0m\u001b[37m\u001b[0m \u001b[1m0s\u001b[0m 7ms/step \n"
     ]
    }
   ],
   "source": [
    "results = test_CNN(data)"
   ]
  },
  {
   "cell_type": "code",
   "execution_count": 8,
   "id": "e261c4c7-6136-4973-bad8-39cc33f664bb",
   "metadata": {},
   "outputs": [],
   "source": [
    "import matplotlib.pyplot as plt"
   ]
  },
  {
   "cell_type": "code",
   "execution_count": 9,
   "id": "6565fc6f-aae0-4472-a39d-04b4ad1719b0",
   "metadata": {},
   "outputs": [],
   "source": [
    "pred = [y[1] for y in results[0][0]]\n",
    "test = [y[1] for y in results[0][1]]"
   ]
  },
  {
   "cell_type": "code",
   "execution_count": 10,
   "id": "44c6cd42-4002-4ebf-9842-74ae9327b398",
   "metadata": {},
   "outputs": [
    {
     "data": {
      "text/plain": [
       "<matplotlib.legend.Legend at 0x7b9cd4961880>"
      ]
     },
     "execution_count": 10,
     "metadata": {},
     "output_type": "execute_result"
    },
    {
     "data": {
      "image/png": "[encoded data removed]",
      "text/plain": [
       "<Figure size 640x480 with 1 Axes>"
      ]
     },
     "metadata": {},
     "output_type": "display_data"
    }
   ],
   "source": [
    "plt.plot(pred, label='CNN')\n",
    "plt.plot(test, label='real')\n",
    "plt.legend(loc='best')"
   ]
  },
  {
   "cell_type": "code",
   "execution_count": 11,
   "id": "7fe0e2c5-0492-45e6-a702-409a64c50d1a",
   "metadata": {},
   "outputs": [],
   "source": [
    "from sklearn.metrics import root_mean_squared_error as rmse"
   ]
  },
  {
   "cell_type": "code",
   "execution_count": 12,
   "id": "94eee8f7-2c70-4887-aa45-801201cdb1fc",
   "metadata": {},
   "outputs": [
    {
     "data": {
      "text/plain": [
       "8.207440995126268"
      ]
     },
     "execution_count": 12,
     "metadata": {},
     "output_type": "execute_result"
    }
   ],
   "source": [
    "rmse(pred, test)"
   ]
  },
  {
   "cell_type": "code",
   "execution_count": 13,
   "id": "3ab1cd84-e5d7-4f80-8b31-beaa78c115e3",
   "metadata": {},
   "outputs": [],
   "source": [
    "upper  = gold['Adj Close'].rolling(window=50).mean() + gold['Adj Close'].rolling(window=50).std() * 2\n",
    "bottom = gold['Adj Close'].rolling(window=50).mean() - gold['Adj Close'].rolling(window=50).std() * 2"
   ]
  },
  {
   "cell_type": "code",
   "execution_count": 14,
   "id": "ec35dc27-8714-4ef5-bc76-20869afb1a53",
   "metadata": {},
   "outputs": [
    {
     "name": "stderr",
     "output_type": "stream",
     "text": [
      "/run/user/1000/app/org.jupyter.JupyterLab/ipykernel_408/880079603.py:3: FutureWarning: Series.__getitem__ treating keys as positions is deprecated. In a future version, integer keys will always be treated as labels (consistent with DataFrame behavior). To access a value by position, use `ser.iloc[pos]`\n",
      "  if upper[i] < gold['Adj Close'][i]:\n",
      "/run/user/1000/app/org.jupyter.JupyterLab/ipykernel_408/880079603.py:5: FutureWarning: Series.__getitem__ treating keys as positions is deprecated. In a future version, integer keys will always be treated as labels (consistent with DataFrame behavior). To access a value by position, use `ser.iloc[pos]`\n",
      "  elif bottom[i] > gold['Adj Close'][i]:\n",
      "/run/user/1000/app/org.jupyter.JupyterLab/ipykernel_408/880079603.py:8: FutureWarning: Series.__getitem__ treating keys as positions is deprecated. In a future version, integer keys will always be treated as labels (consistent with DataFrame behavior). To access a value by position, use `ser.iloc[pos]`\n",
      "  data.append([0, gold['Adj Close'][i]])\n",
      "/run/user/1000/app/org.jupyter.JupyterLab/ipykernel_408/880079603.py:6: FutureWarning: Series.__getitem__ treating keys as positions is deprecated. In a future version, integer keys will always be treated as labels (consistent with DataFrame behavior). To access a value by position, use `ser.iloc[pos]`\n",
      "  data.append([-1, gold['Adj Close'][i]])\n",
      "/run/user/1000/app/org.jupyter.JupyterLab/ipykernel_408/880079603.py:4: FutureWarning: Series.__getitem__ treating keys as positions is deprecated. In a future version, integer keys will always be treated as labels (consistent with DataFrame behavior). To access a value by position, use `ser.iloc[pos]`\n",
      "  data.append([1, gold['Adj Close'][i]])\n"
     ]
    }
   ],
   "source": [
    "data = []\n",
    "for i in range(50, len(gold)):\n",
    "    if upper[i] < gold['Adj Close'][i]:\n",
    "        data.append([1, gold['Adj Close'][i]])\n",
    "    elif bottom[i] > gold['Adj Close'][i]:\n",
    "        data.append([-1, gold['Adj Close'][i]])\n",
    "    else:\n",
    "        data.append([0, gold['Adj Close'][i]])\n",
    "        "
   ]
  },
  {
   "cell_type": "code",
   "execution_count": 15,
   "id": "c2dc7c5d-2f30-44f4-979f-53a2876c6ad1",
   "metadata": {},
   "outputs": [
    {
     "name": "stdout",
     "output_type": "stream",
     "text": [
      "766\n",
      "(50, 2)\n",
      "Epoch 1/10\n"
     ]
    },
    {
     "name": "stderr",
     "output_type": "stream",
     "text": [
      "/home/tea/.var/app/org.jupyter.JupyterLab/config/jupyterlab-desktop/jlab_server/lib/python3.12/site-packages/keras/src/layers/convolutional/base_conv.py:107: UserWarning: Do not pass an `input_shape`/`input_dim` argument to a layer. When using Sequential models, prefer using an `Input(shape)` object as the first layer in the model instead.\n",
      "  super().__init__(activity_regularizer=activity_regularizer, **kwargs)\n"
     ]
    },
    {
     "name": "stdout",
     "output_type": "stream",
     "text": [
      "45/45 - 0s - 10ms/step - loss: 921.1232\n",
      "Epoch 2/10\n",
      "45/45 - 0s - 1ms/step - loss: 18.2846\n",
      "Epoch 3/10\n",
      "45/45 - 0s - 1ms/step - loss: 14.9422\n",
      "Epoch 4/10\n",
      "45/45 - 0s - 2ms/step - loss: 14.3229\n",
      "Epoch 5/10\n",
      "45/45 - 0s - 1ms/step - loss: 13.7651\n",
      "Epoch 6/10\n",
      "45/45 - 0s - 2ms/step - loss: 13.3126\n",
      "Epoch 7/10\n",
      "45/45 - 0s - 1ms/step - loss: 13.0009\n",
      "Epoch 8/10\n",
      "45/45 - 0s - 1ms/step - loss: 12.1796\n",
      "Epoch 9/10\n",
      "45/45 - 0s - 2ms/step - loss: 12.6098\n",
      "Epoch 10/10\n",
      "45/45 - 0s - 1ms/step - loss: 11.4480\n",
      "\u001b[1m5/5\u001b[0m \u001b[32m━━━━━━━━━━━━━━━━━━━━\u001b[0m\u001b[37m\u001b[0m \u001b[1m0s\u001b[0m 7ms/step \n"
     ]
    }
   ],
   "source": [
    "results = test_CNN(data)"
   ]
  },
  {
   "cell_type": "code",
   "execution_count": 16,
   "id": "9de5f79a-a02a-4eb7-bf64-0e5184201c87",
   "metadata": {},
   "outputs": [
    {
     "data": {
      "text/plain": [
       "<matplotlib.legend.Legend at 0x7b9cc35ab170>"
      ]
     },
     "execution_count": 16,
     "metadata": {},
     "output_type": "execute_result"
    },
    {
     "data": {
      "image/png": "[encoded data removed]",
      "text/plain": [
       "<Figure size 640x480 with 1 Axes>"
      ]
     },
     "metadata": {},
     "output_type": "display_data"
    }
   ],
   "source": [
    "pred = [y[1] for y in results[0][0]]\n",
    "test = [y[1] for y in results[0][1]]\n",
    "plt.plot(pred, label='CNN')\n",
    "plt.plot(test, label='real')\n",
    "plt.legend(loc='best')"
   ]
  },
  {
   "cell_type": "code",
   "execution_count": 17,
   "id": "ed21cae8-90b8-4057-a56e-2bff6055f589",
   "metadata": {},
   "outputs": [
    {
     "data": {
      "text/plain": [
       "3.730139720970588"
      ]
     },
     "execution_count": 17,
     "metadata": {},
     "output_type": "execute_result"
    }
   ],
   "source": [
    "rmse(pred, test)"
   ]
  },
  {
   "cell_type": "code",
   "execution_count": 18,
   "id": "a101da40-a6e9-41b5-aa81-156fa196844e",
   "metadata": {},
   "outputs": [],
   "source": [
    "from sklearn.preprocessing import MinMaxScaler"
   ]
  },
  {
   "cell_type": "code",
   "execution_count": 19,
   "id": "1ab9a6a6-904a-47f0-a2d0-0f46aefe9d16",
   "metadata": {},
   "outputs": [],
   "source": [
    "scaler1 = MinMaxScaler(feature_range=(0,1))\n",
    "data = scaler1.fit_transform(data)"
   ]
  },
  {
   "cell_type": "code",
   "execution_count": 20,
   "id": "13038869-bd44-4a81-8931-17d5f6562349",
   "metadata": {},
   "outputs": [
    {
     "data": {
      "text/plain": [
       "array([[0.5       , 0.16668683],\n",
       "       [0.5       , 0.16306317],\n",
       "       [0.5       , 0.16632449],\n",
       "       ...,\n",
       "       [0.5       , 0.6944075 ],\n",
       "       [0.5       , 0.70902288],\n",
       "       [0.5       , 0.72303427]])"
      ]
     },
     "execution_count": 20,
     "metadata": {},
     "output_type": "execute_result"
    }
   ],
   "source": [
    "data"
   ]
  },
  {
   "cell_type": "code",
   "execution_count": 21,
   "id": "b531af1f-5718-4fa4-af02-e505146a80eb",
   "metadata": {},
   "outputs": [
    {
     "data": {
      "text/plain": [
       "array([[  0.        , 124.90000153],\n",
       "       [  0.        , 124.59999847],\n",
       "       [  0.        , 124.87000275],\n",
       "       ...,\n",
       "       [  0.        , 168.58999634],\n",
       "       [  0.        , 169.80000305],\n",
       "       [  0.        , 170.96000671]])"
      ]
     },
     "execution_count": 21,
     "metadata": {},
     "output_type": "execute_result"
    }
   ],
   "source": [
    "scaler1.inverse_transform(data)"
   ]
  },
  {
   "cell_type": "code",
   "execution_count": 22,
   "id": "ff711b9c-53ad-4f0c-806a-2e50d12aeee3",
   "metadata": {},
   "outputs": [],
   "source": [
    "from RNN_test2 import test_RNN"
   ]
  },
  {
   "cell_type": "code",
   "execution_count": 23,
   "id": "fcedf53a-d1fb-44aa-9986-d2680c89ed2a",
   "metadata": {},
   "outputs": [
    {
     "name": "stdout",
     "output_type": "stream",
     "text": [
      "766\n",
      "(50, 2)\n",
      "Epoch 1/4\n"
     ]
    },
    {
     "name": "stderr",
     "output_type": "stream",
     "text": [
      "/home/tea/.var/app/org.jupyter.JupyterLab/config/jupyterlab-desktop/jlab_server/lib/python3.12/site-packages/keras/src/layers/rnn/rnn.py:204: UserWarning: Do not pass an `input_shape`/`input_dim` argument to a layer. When using Sequential models, prefer using an `Input(shape)` object as the first layer in the model instead.\n",
      "  super().__init__(**kwargs)\n",
      "/home/tea/.var/app/org.jupyter.JupyterLab/config/jupyterlab-desktop/jlab_server/lib/python3.12/site-packages/keras/src/optimizers/base_optimizer.py:32: UserWarning: Argument `decay` is no longer supported and will be ignored.\n",
      "  warnings.warn(\n"
     ]
    },
    {
     "name": "stdout",
     "output_type": "stream",
     "text": [
      "\u001b[1m358/358\u001b[0m \u001b[32m━━━━━━━━━━━━━━━━━━━━\u001b[0m\u001b[37m\u001b[0m \u001b[1m6s\u001b[0m 13ms/step - loss: 0.0359\n",
      "Epoch 2/4\n",
      "\u001b[1m358/358\u001b[0m \u001b[32m━━━━━━━━━━━━━━━━━━━━\u001b[0m\u001b[37m\u001b[0m \u001b[1m4s\u001b[0m 12ms/step - loss: 0.0188\n",
      "Epoch 3/4\n",
      "\u001b[1m358/358\u001b[0m \u001b[32m━━━━━━━━━━━━━━━━━━━━\u001b[0m\u001b[37m\u001b[0m \u001b[1m4s\u001b[0m 12ms/step - loss: 0.0179\n",
      "Epoch 4/4\n",
      "\u001b[1m358/358\u001b[0m \u001b[32m━━━━━━━━━━━━━━━━━━━━\u001b[0m\u001b[37m\u001b[0m \u001b[1m4s\u001b[0m 12ms/step - loss: 0.0145\n"
     ]
    },
    {
     "data": {
      "text/html": [
       "<pre style=\"white-space:pre;overflow-x:auto;line-height:normal;font-family:Menlo,'DejaVu Sans Mono',consolas,'Courier New',monospace\"><span style=\"font-weight: bold\">Model: \"sequential_2\"</span>\n",
       "</pre>\n"
      ],
      "text/plain": [
       "\u001b[1mModel: \"sequential_2\"\u001b[0m\n"
      ]
     },
     "metadata": {},
     "output_type": "display_data"
    },
    {
     "data": {
      "text/html": [
       "<pre style=\"white-space:pre;overflow-x:auto;line-height:normal;font-family:Menlo,'DejaVu Sans Mono',consolas,'Courier New',monospace\">┏━━━━━━━━━━━━━━━━━━━━━━━━━━━━━━━━━┳━━━━━━━━━━━━━━━━━━━━━━━━┳━━━━━━━━━━━━━━━┓\n",
       "┃<span style=\"font-weight: bold\"> Layer (type)                    </span>┃<span style=\"font-weight: bold\"> Output Shape           </span>┃<span style=\"font-weight: bold\">       Param # </span>┃\n",
       "┡━━━━━━━━━━━━━━━━━━━━━━━━━━━━━━━━━╇━━━━━━━━━━━━━━━━━━━━━━━━╇━━━━━━━━━━━━━━━┩\n",
       "│ simple_rnn (<span style=\"color: #0087ff; text-decoration-color: #0087ff\">SimpleRNN</span>)          │ (<span style=\"color: #00d7ff; text-decoration-color: #00d7ff\">None</span>, <span style=\"color: #00af00; text-decoration-color: #00af00\">50</span>, <span style=\"color: #00af00; text-decoration-color: #00af00\">50</span>)         │         <span style=\"color: #00af00; text-decoration-color: #00af00\">2,650</span> │\n",
       "├─────────────────────────────────┼────────────────────────┼───────────────┤\n",
       "│ dropout (<span style=\"color: #0087ff; text-decoration-color: #0087ff\">Dropout</span>)               │ (<span style=\"color: #00d7ff; text-decoration-color: #00d7ff\">None</span>, <span style=\"color: #00af00; text-decoration-color: #00af00\">50</span>, <span style=\"color: #00af00; text-decoration-color: #00af00\">50</span>)         │             <span style=\"color: #00af00; text-decoration-color: #00af00\">0</span> │\n",
       "├─────────────────────────────────┼────────────────────────┼───────────────┤\n",
       "│ simple_rnn_1 (<span style=\"color: #0087ff; text-decoration-color: #0087ff\">SimpleRNN</span>)        │ (<span style=\"color: #00d7ff; text-decoration-color: #00d7ff\">None</span>, <span style=\"color: #00af00; text-decoration-color: #00af00\">50</span>, <span style=\"color: #00af00; text-decoration-color: #00af00\">50</span>)         │         <span style=\"color: #00af00; text-decoration-color: #00af00\">5,050</span> │\n",
       "├─────────────────────────────────┼────────────────────────┼───────────────┤\n",
       "│ simple_rnn_2 (<span style=\"color: #0087ff; text-decoration-color: #0087ff\">SimpleRNN</span>)        │ (<span style=\"color: #00d7ff; text-decoration-color: #00d7ff\">None</span>, <span style=\"color: #00af00; text-decoration-color: #00af00\">50</span>, <span style=\"color: #00af00; text-decoration-color: #00af00\">50</span>)         │         <span style=\"color: #00af00; text-decoration-color: #00af00\">5,050</span> │\n",
       "├─────────────────────────────────┼────────────────────────┼───────────────┤\n",
       "│ simple_rnn_3 (<span style=\"color: #0087ff; text-decoration-color: #0087ff\">SimpleRNN</span>)        │ (<span style=\"color: #00d7ff; text-decoration-color: #00d7ff\">None</span>, <span style=\"color: #00af00; text-decoration-color: #00af00\">50</span>)             │         <span style=\"color: #00af00; text-decoration-color: #00af00\">5,050</span> │\n",
       "├─────────────────────────────────┼────────────────────────┼───────────────┤\n",
       "│ dense_4 (<span style=\"color: #0087ff; text-decoration-color: #0087ff\">Dense</span>)                 │ (<span style=\"color: #00d7ff; text-decoration-color: #00d7ff\">None</span>, <span style=\"color: #00af00; text-decoration-color: #00af00\">2</span>)              │           <span style=\"color: #00af00; text-decoration-color: #00af00\">102</span> │\n",
       "└─────────────────────────────────┴────────────────────────┴───────────────┘\n",
       "</pre>\n"
      ],
      "text/plain": [
       "┏━━━━━━━━━━━━━━━━━━━━━━━━━━━━━━━━━┳━━━━━━━━━━━━━━━━━━━━━━━━┳━━━━━━━━━━━━━━━┓\n",
       "┃\u001b[1m \u001b[0m\u001b[1mLayer (type)                   \u001b[0m\u001b[1m \u001b[0m┃\u001b[1m \u001b[0m\u001b[1mOutput Shape          \u001b[0m\u001b[1m \u001b[0m┃\u001b[1m \u001b[0m\u001b[1m      Param #\u001b[0m\u001b[1m \u001b[0m┃\n",
       "┡━━━━━━━━━━━━━━━━━━━━━━━━━━━━━━━━━╇━━━━━━━━━━━━━━━━━━━━━━━━╇━━━━━━━━━━━━━━━┩\n",
       "│ simple_rnn (\u001b[38;5;33mSimpleRNN\u001b[0m)          │ (\u001b[38;5;45mNone\u001b[0m, \u001b[38;5;34m50\u001b[0m, \u001b[38;5;34m50\u001b[0m)         │         \u001b[38;5;34m2,650\u001b[0m │\n",
       "├─────────────────────────────────┼────────────────────────┼───────────────┤\n",
       "│ dropout (\u001b[38;5;33mDropout\u001b[0m)               │ (\u001b[38;5;45mNone\u001b[0m, \u001b[38;5;34m50\u001b[0m, \u001b[38;5;34m50\u001b[0m)         │             \u001b[38;5;34m0\u001b[0m │\n",
       "├─────────────────────────────────┼────────────────────────┼───────────────┤\n",
       "│ simple_rnn_1 (\u001b[38;5;33mSimpleRNN\u001b[0m)        │ (\u001b[38;5;45mNone\u001b[0m, \u001b[38;5;34m50\u001b[0m, \u001b[38;5;34m50\u001b[0m)         │         \u001b[38;5;34m5,050\u001b[0m │\n",
       "├─────────────────────────────────┼────────────────────────┼───────────────┤\n",
       "│ simple_rnn_2 (\u001b[38;5;33mSimpleRNN\u001b[0m)        │ (\u001b[38;5;45mNone\u001b[0m, \u001b[38;5;34m50\u001b[0m, \u001b[38;5;34m50\u001b[0m)         │         \u001b[38;5;34m5,050\u001b[0m │\n",
       "├─────────────────────────────────┼────────────────────────┼───────────────┤\n",
       "│ simple_rnn_3 (\u001b[38;5;33mSimpleRNN\u001b[0m)        │ (\u001b[38;5;45mNone\u001b[0m, \u001b[38;5;34m50\u001b[0m)             │         \u001b[38;5;34m5,050\u001b[0m │\n",
       "├─────────────────────────────────┼────────────────────────┼───────────────┤\n",
       "│ dense_4 (\u001b[38;5;33mDense\u001b[0m)                 │ (\u001b[38;5;45mNone\u001b[0m, \u001b[38;5;34m2\u001b[0m)              │           \u001b[38;5;34m102\u001b[0m │\n",
       "└─────────────────────────────────┴────────────────────────┴───────────────┘\n"
      ]
     },
     "metadata": {},
     "output_type": "display_data"
    },
    {
     "data": {
      "text/html": [
       "<pre style=\"white-space:pre;overflow-x:auto;line-height:normal;font-family:Menlo,'DejaVu Sans Mono',consolas,'Courier New',monospace\"><span style=\"font-weight: bold\"> Total params: </span><span style=\"color: #00af00; text-decoration-color: #00af00\">35,806</span> (139.87 KB)\n",
       "</pre>\n"
      ],
      "text/plain": [
       "\u001b[1m Total params: \u001b[0m\u001b[38;5;34m35,806\u001b[0m (139.87 KB)\n"
      ]
     },
     "metadata": {},
     "output_type": "display_data"
    },
    {
     "data": {
      "text/html": [
       "<pre style=\"white-space:pre;overflow-x:auto;line-height:normal;font-family:Menlo,'DejaVu Sans Mono',consolas,'Courier New',monospace\"><span style=\"font-weight: bold\"> Trainable params: </span><span style=\"color: #00af00; text-decoration-color: #00af00\">17,902</span> (69.93 KB)\n",
       "</pre>\n"
      ],
      "text/plain": [
       "\u001b[1m Trainable params: \u001b[0m\u001b[38;5;34m17,902\u001b[0m (69.93 KB)\n"
      ]
     },
     "metadata": {},
     "output_type": "display_data"
    },
    {
     "data": {
      "text/html": [
       "<pre style=\"white-space:pre;overflow-x:auto;line-height:normal;font-family:Menlo,'DejaVu Sans Mono',consolas,'Courier New',monospace\"><span style=\"font-weight: bold\"> Non-trainable params: </span><span style=\"color: #00af00; text-decoration-color: #00af00\">0</span> (0.00 B)\n",
       "</pre>\n"
      ],
      "text/plain": [
       "\u001b[1m Non-trainable params: \u001b[0m\u001b[38;5;34m0\u001b[0m (0.00 B)\n"
      ]
     },
     "metadata": {},
     "output_type": "display_data"
    },
    {
     "data": {
      "text/html": [
       "<pre style=\"white-space:pre;overflow-x:auto;line-height:normal;font-family:Menlo,'DejaVu Sans Mono',consolas,'Courier New',monospace\"><span style=\"font-weight: bold\"> Optimizer params: </span><span style=\"color: #00af00; text-decoration-color: #00af00\">17,904</span> (69.94 KB)\n",
       "</pre>\n"
      ],
      "text/plain": [
       "\u001b[1m Optimizer params: \u001b[0m\u001b[38;5;34m17,904\u001b[0m (69.94 KB)\n"
      ]
     },
     "metadata": {},
     "output_type": "display_data"
    },
    {
     "name": "stdout",
     "output_type": "stream",
     "text": [
      "WARNING:tensorflow:5 out of the last 11 calls to <function TensorFlowTrainer.make_predict_function.<locals>.one_step_on_data_distributed at 0x7b9cc1e0a340> triggered tf.function retracing. Tracing is expensive and the excessive number of tracings could be due to (1) creating @tf.function repeatedly in a loop, (2) passing tensors with different shapes, (3) passing Python objects instead of tensors. For (1), please define your @tf.function outside of the loop. For (2), @tf.function has reduce_retracing=True option that can avoid unnecessary retracing. For (3), please refer to https://www.tensorflow.org/guide/function#controlling_retracing and https://www.tensorflow.org/api_docs/python/tf/function for  more details.\n",
      "\u001b[1m1/5\u001b[0m \u001b[32m━━━━\u001b[0m\u001b[37m━━━━━━━━━━━━━━━━\u001b[0m \u001b[1m0s\u001b[0m 182ms/stepWARNING:tensorflow:5 out of the last 11 calls to <function TensorFlowTrainer.make_predict_function.<locals>.one_step_on_data_distributed at 0x7b9cc1e0a340> triggered tf.function retracing. Tracing is expensive and the excessive number of tracings could be due to (1) creating @tf.function repeatedly in a loop, (2) passing tensors with different shapes, (3) passing Python objects instead of tensors. For (1), please define your @tf.function outside of the loop. For (2), @tf.function has reduce_retracing=True option that can avoid unnecessary retracing. For (3), please refer to https://www.tensorflow.org/guide/function#controlling_retracing and https://www.tensorflow.org/api_docs/python/tf/function for  more details.\n",
      "\u001b[1m5/5\u001b[0m \u001b[32m━━━━━━━━━━━━━━━━━━━━\u001b[0m\u001b[37m\u001b[0m \u001b[1m0s\u001b[0m 50ms/step\n",
      "(50, 2)\n",
      "Epoch 1/4\n",
      "\u001b[1m716/716\u001b[0m \u001b[32m━━━━━━━━━━━━━━━━━━━━\u001b[0m\u001b[37m\u001b[0m \u001b[1m8s\u001b[0m 9ms/step - accuracy: 0.8651 - loss: 0.0339\n",
      "Epoch 2/4\n",
      "\u001b[1m716/716\u001b[0m \u001b[32m━━━━━━━━━━━━━━━━━━━━\u001b[0m\u001b[37m\u001b[0m \u001b[1m6s\u001b[0m 9ms/step - accuracy: 0.9117 - loss: 0.0156\n",
      "Epoch 3/4\n",
      "\u001b[1m716/716\u001b[0m \u001b[32m━━━━━━━━━━━━━━━━━━━━\u001b[0m\u001b[37m\u001b[0m \u001b[1m6s\u001b[0m 9ms/step - accuracy: 0.8973 - loss: 0.0142\n",
      "Epoch 4/4\n",
      "\u001b[1m716/716\u001b[0m \u001b[32m━━━━━━━━━━━━━━━━━━━━\u001b[0m\u001b[37m\u001b[0m \u001b[1m6s\u001b[0m 9ms/step - accuracy: 0.9301 - loss: 0.0124\n"
     ]
    },
    {
     "data": {
      "text/html": [
       "<pre style=\"white-space:pre;overflow-x:auto;line-height:normal;font-family:Menlo,'DejaVu Sans Mono',consolas,'Courier New',monospace\"><span style=\"font-weight: bold\">Model: \"sequential_3\"</span>\n",
       "</pre>\n"
      ],
      "text/plain": [
       "\u001b[1mModel: \"sequential_3\"\u001b[0m\n"
      ]
     },
     "metadata": {},
     "output_type": "display_data"
    },
    {
     "data": {
      "text/html": [
       "<pre style=\"white-space:pre;overflow-x:auto;line-height:normal;font-family:Menlo,'DejaVu Sans Mono',consolas,'Courier New',monospace\">┏━━━━━━━━━━━━━━━━━━━━━━━━━━━━━━━━━┳━━━━━━━━━━━━━━━━━━━━━━━━┳━━━━━━━━━━━━━━━┓\n",
       "┃<span style=\"font-weight: bold\"> Layer (type)                    </span>┃<span style=\"font-weight: bold\"> Output Shape           </span>┃<span style=\"font-weight: bold\">       Param # </span>┃\n",
       "┡━━━━━━━━━━━━━━━━━━━━━━━━━━━━━━━━━╇━━━━━━━━━━━━━━━━━━━━━━━━╇━━━━━━━━━━━━━━━┩\n",
       "│ lstm (<span style=\"color: #0087ff; text-decoration-color: #0087ff\">LSTM</span>)                     │ (<span style=\"color: #00d7ff; text-decoration-color: #00d7ff\">None</span>, <span style=\"color: #00af00; text-decoration-color: #00af00\">50</span>, <span style=\"color: #00af00; text-decoration-color: #00af00\">50</span>)         │        <span style=\"color: #00af00; text-decoration-color: #00af00\">10,600</span> │\n",
       "├─────────────────────────────────┼────────────────────────┼───────────────┤\n",
       "│ lstm_1 (<span style=\"color: #0087ff; text-decoration-color: #0087ff\">LSTM</span>)                   │ (<span style=\"color: #00d7ff; text-decoration-color: #00d7ff\">None</span>, <span style=\"color: #00af00; text-decoration-color: #00af00\">50</span>)             │        <span style=\"color: #00af00; text-decoration-color: #00af00\">20,200</span> │\n",
       "├─────────────────────────────────┼────────────────────────┼───────────────┤\n",
       "│ dense_5 (<span style=\"color: #0087ff; text-decoration-color: #0087ff\">Dense</span>)                 │ (<span style=\"color: #00d7ff; text-decoration-color: #00d7ff\">None</span>, <span style=\"color: #00af00; text-decoration-color: #00af00\">25</span>)             │         <span style=\"color: #00af00; text-decoration-color: #00af00\">1,275</span> │\n",
       "├─────────────────────────────────┼────────────────────────┼───────────────┤\n",
       "│ dense_6 (<span style=\"color: #0087ff; text-decoration-color: #0087ff\">Dense</span>)                 │ (<span style=\"color: #00d7ff; text-decoration-color: #00d7ff\">None</span>, <span style=\"color: #00af00; text-decoration-color: #00af00\">2</span>)              │            <span style=\"color: #00af00; text-decoration-color: #00af00\">52</span> │\n",
       "└─────────────────────────────────┴────────────────────────┴───────────────┘\n",
       "</pre>\n"
      ],
      "text/plain": [
       "┏━━━━━━━━━━━━━━━━━━━━━━━━━━━━━━━━━┳━━━━━━━━━━━━━━━━━━━━━━━━┳━━━━━━━━━━━━━━━┓\n",
       "┃\u001b[1m \u001b[0m\u001b[1mLayer (type)                   \u001b[0m\u001b[1m \u001b[0m┃\u001b[1m \u001b[0m\u001b[1mOutput Shape          \u001b[0m\u001b[1m \u001b[0m┃\u001b[1m \u001b[0m\u001b[1m      Param #\u001b[0m\u001b[1m \u001b[0m┃\n",
       "┡━━━━━━━━━━━━━━━━━━━━━━━━━━━━━━━━━╇━━━━━━━━━━━━━━━━━━━━━━━━╇━━━━━━━━━━━━━━━┩\n",
       "│ lstm (\u001b[38;5;33mLSTM\u001b[0m)                     │ (\u001b[38;5;45mNone\u001b[0m, \u001b[38;5;34m50\u001b[0m, \u001b[38;5;34m50\u001b[0m)         │        \u001b[38;5;34m10,600\u001b[0m │\n",
       "├─────────────────────────────────┼────────────────────────┼───────────────┤\n",
       "│ lstm_1 (\u001b[38;5;33mLSTM\u001b[0m)                   │ (\u001b[38;5;45mNone\u001b[0m, \u001b[38;5;34m50\u001b[0m)             │        \u001b[38;5;34m20,200\u001b[0m │\n",
       "├─────────────────────────────────┼────────────────────────┼───────────────┤\n",
       "│ dense_5 (\u001b[38;5;33mDense\u001b[0m)                 │ (\u001b[38;5;45mNone\u001b[0m, \u001b[38;5;34m25\u001b[0m)             │         \u001b[38;5;34m1,275\u001b[0m │\n",
       "├─────────────────────────────────┼────────────────────────┼───────────────┤\n",
       "│ dense_6 (\u001b[38;5;33mDense\u001b[0m)                 │ (\u001b[38;5;45mNone\u001b[0m, \u001b[38;5;34m2\u001b[0m)              │            \u001b[38;5;34m52\u001b[0m │\n",
       "└─────────────────────────────────┴────────────────────────┴───────────────┘\n"
      ]
     },
     "metadata": {},
     "output_type": "display_data"
    },
    {
     "data": {
      "text/html": [
       "<pre style=\"white-space:pre;overflow-x:auto;line-height:normal;font-family:Menlo,'DejaVu Sans Mono',consolas,'Courier New',monospace\"><span style=\"font-weight: bold\"> Total params: </span><span style=\"color: #00af00; text-decoration-color: #00af00\">96,383</span> (376.50 KB)\n",
       "</pre>\n"
      ],
      "text/plain": [
       "\u001b[1m Total params: \u001b[0m\u001b[38;5;34m96,383\u001b[0m (376.50 KB)\n"
      ]
     },
     "metadata": {},
     "output_type": "display_data"
    },
    {
     "data": {
      "text/html": [
       "<pre style=\"white-space:pre;overflow-x:auto;line-height:normal;font-family:Menlo,'DejaVu Sans Mono',consolas,'Courier New',monospace\"><span style=\"font-weight: bold\"> Trainable params: </span><span style=\"color: #00af00; text-decoration-color: #00af00\">32,127</span> (125.50 KB)\n",
       "</pre>\n"
      ],
      "text/plain": [
       "\u001b[1m Trainable params: \u001b[0m\u001b[38;5;34m32,127\u001b[0m (125.50 KB)\n"
      ]
     },
     "metadata": {},
     "output_type": "display_data"
    },
    {
     "data": {
      "text/html": [
       "<pre style=\"white-space:pre;overflow-x:auto;line-height:normal;font-family:Menlo,'DejaVu Sans Mono',consolas,'Courier New',monospace\"><span style=\"font-weight: bold\"> Non-trainable params: </span><span style=\"color: #00af00; text-decoration-color: #00af00\">0</span> (0.00 B)\n",
       "</pre>\n"
      ],
      "text/plain": [
       "\u001b[1m Non-trainable params: \u001b[0m\u001b[38;5;34m0\u001b[0m (0.00 B)\n"
      ]
     },
     "metadata": {},
     "output_type": "display_data"
    },
    {
     "data": {
      "text/html": [
       "<pre style=\"white-space:pre;overflow-x:auto;line-height:normal;font-family:Menlo,'DejaVu Sans Mono',consolas,'Courier New',monospace\"><span style=\"font-weight: bold\"> Optimizer params: </span><span style=\"color: #00af00; text-decoration-color: #00af00\">64,256</span> (251.00 KB)\n",
       "</pre>\n"
      ],
      "text/plain": [
       "\u001b[1m Optimizer params: \u001b[0m\u001b[38;5;34m64,256\u001b[0m (251.00 KB)\n"
      ]
     },
     "metadata": {},
     "output_type": "display_data"
    },
    {
     "name": "stdout",
     "output_type": "stream",
     "text": [
      "\u001b[1m5/5\u001b[0m \u001b[32m━━━━━━━━━━━━━━━━━━━━\u001b[0m\u001b[37m\u001b[0m \u001b[1m0s\u001b[0m 35ms/step\n",
      "(50, 2)\n",
      "Epoch 1/4\n",
      "\u001b[1m716/716\u001b[0m \u001b[32m━━━━━━━━━━━━━━━━━━━━\u001b[0m\u001b[37m\u001b[0m \u001b[1m15s\u001b[0m 18ms/step - loss: 0.0393\n",
      "Epoch 2/4\n",
      "\u001b[1m716/716\u001b[0m \u001b[32m━━━━━━━━━━━━━━━━━━━━\u001b[0m\u001b[37m\u001b[0m \u001b[1m14s\u001b[0m 20ms/step - loss: 0.0180\n",
      "Epoch 3/4\n",
      "\u001b[1m716/716\u001b[0m \u001b[32m━━━━━━━━━━━━━━━━━━━━\u001b[0m\u001b[37m\u001b[0m \u001b[1m14s\u001b[0m 19ms/step - loss: 0.0164\n",
      "Epoch 4/4\n",
      "\u001b[1m716/716\u001b[0m \u001b[32m━━━━━━━━━━━━━━━━━━━━\u001b[0m\u001b[37m\u001b[0m \u001b[1m13s\u001b[0m 19ms/step - loss: 0.0152\n"
     ]
    },
    {
     "data": {
      "text/html": [
       "<pre style=\"white-space:pre;overflow-x:auto;line-height:normal;font-family:Menlo,'DejaVu Sans Mono',consolas,'Courier New',monospace\"><span style=\"font-weight: bold\">Model: \"sequential_4\"</span>\n",
       "</pre>\n"
      ],
      "text/plain": [
       "\u001b[1mModel: \"sequential_4\"\u001b[0m\n"
      ]
     },
     "metadata": {},
     "output_type": "display_data"
    },
    {
     "data": {
      "text/html": [
       "<pre style=\"white-space:pre;overflow-x:auto;line-height:normal;font-family:Menlo,'DejaVu Sans Mono',consolas,'Courier New',monospace\">┏━━━━━━━━━━━━━━━━━━━━━━━━━━━━━━━━━┳━━━━━━━━━━━━━━━━━━━━━━━━┳━━━━━━━━━━━━━━━┓\n",
       "┃<span style=\"font-weight: bold\"> Layer (type)                    </span>┃<span style=\"font-weight: bold\"> Output Shape           </span>┃<span style=\"font-weight: bold\">       Param # </span>┃\n",
       "┡━━━━━━━━━━━━━━━━━━━━━━━━━━━━━━━━━╇━━━━━━━━━━━━━━━━━━━━━━━━╇━━━━━━━━━━━━━━━┩\n",
       "│ gru (<span style=\"color: #0087ff; text-decoration-color: #0087ff\">GRU</span>)                       │ (<span style=\"color: #00d7ff; text-decoration-color: #00d7ff\">None</span>, <span style=\"color: #00af00; text-decoration-color: #00af00\">50</span>, <span style=\"color: #00af00; text-decoration-color: #00af00\">50</span>)         │         <span style=\"color: #00af00; text-decoration-color: #00af00\">8,100</span> │\n",
       "├─────────────────────────────────┼────────────────────────┼───────────────┤\n",
       "│ dropout_1 (<span style=\"color: #0087ff; text-decoration-color: #0087ff\">Dropout</span>)             │ (<span style=\"color: #00d7ff; text-decoration-color: #00d7ff\">None</span>, <span style=\"color: #00af00; text-decoration-color: #00af00\">50</span>, <span style=\"color: #00af00; text-decoration-color: #00af00\">50</span>)         │             <span style=\"color: #00af00; text-decoration-color: #00af00\">0</span> │\n",
       "├─────────────────────────────────┼────────────────────────┼───────────────┤\n",
       "│ gru_1 (<span style=\"color: #0087ff; text-decoration-color: #0087ff\">GRU</span>)                     │ (<span style=\"color: #00d7ff; text-decoration-color: #00d7ff\">None</span>, <span style=\"color: #00af00; text-decoration-color: #00af00\">50</span>, <span style=\"color: #00af00; text-decoration-color: #00af00\">50</span>)         │        <span style=\"color: #00af00; text-decoration-color: #00af00\">15,300</span> │\n",
       "├─────────────────────────────────┼────────────────────────┼───────────────┤\n",
       "│ gru_2 (<span style=\"color: #0087ff; text-decoration-color: #0087ff\">GRU</span>)                     │ (<span style=\"color: #00d7ff; text-decoration-color: #00d7ff\">None</span>, <span style=\"color: #00af00; text-decoration-color: #00af00\">50</span>, <span style=\"color: #00af00; text-decoration-color: #00af00\">50</span>)         │        <span style=\"color: #00af00; text-decoration-color: #00af00\">15,300</span> │\n",
       "├─────────────────────────────────┼────────────────────────┼───────────────┤\n",
       "│ gru_3 (<span style=\"color: #0087ff; text-decoration-color: #0087ff\">GRU</span>)                     │ (<span style=\"color: #00d7ff; text-decoration-color: #00d7ff\">None</span>, <span style=\"color: #00af00; text-decoration-color: #00af00\">50</span>)             │        <span style=\"color: #00af00; text-decoration-color: #00af00\">15,300</span> │\n",
       "├─────────────────────────────────┼────────────────────────┼───────────────┤\n",
       "│ dense_7 (<span style=\"color: #0087ff; text-decoration-color: #0087ff\">Dense</span>)                 │ (<span style=\"color: #00d7ff; text-decoration-color: #00d7ff\">None</span>, <span style=\"color: #00af00; text-decoration-color: #00af00\">2</span>)              │           <span style=\"color: #00af00; text-decoration-color: #00af00\">102</span> │\n",
       "└─────────────────────────────────┴────────────────────────┴───────────────┘\n",
       "</pre>\n"
      ],
      "text/plain": [
       "┏━━━━━━━━━━━━━━━━━━━━━━━━━━━━━━━━━┳━━━━━━━━━━━━━━━━━━━━━━━━┳━━━━━━━━━━━━━━━┓\n",
       "┃\u001b[1m \u001b[0m\u001b[1mLayer (type)                   \u001b[0m\u001b[1m \u001b[0m┃\u001b[1m \u001b[0m\u001b[1mOutput Shape          \u001b[0m\u001b[1m \u001b[0m┃\u001b[1m \u001b[0m\u001b[1m      Param #\u001b[0m\u001b[1m \u001b[0m┃\n",
       "┡━━━━━━━━━━━━━━━━━━━━━━━━━━━━━━━━━╇━━━━━━━━━━━━━━━━━━━━━━━━╇━━━━━━━━━━━━━━━┩\n",
       "│ gru (\u001b[38;5;33mGRU\u001b[0m)                       │ (\u001b[38;5;45mNone\u001b[0m, \u001b[38;5;34m50\u001b[0m, \u001b[38;5;34m50\u001b[0m)         │         \u001b[38;5;34m8,100\u001b[0m │\n",
       "├─────────────────────────────────┼────────────────────────┼───────────────┤\n",
       "│ dropout_1 (\u001b[38;5;33mDropout\u001b[0m)             │ (\u001b[38;5;45mNone\u001b[0m, \u001b[38;5;34m50\u001b[0m, \u001b[38;5;34m50\u001b[0m)         │             \u001b[38;5;34m0\u001b[0m │\n",
       "├─────────────────────────────────┼────────────────────────┼───────────────┤\n",
       "│ gru_1 (\u001b[38;5;33mGRU\u001b[0m)                     │ (\u001b[38;5;45mNone\u001b[0m, \u001b[38;5;34m50\u001b[0m, \u001b[38;5;34m50\u001b[0m)         │        \u001b[38;5;34m15,300\u001b[0m │\n",
       "├─────────────────────────────────┼────────────────────────┼───────────────┤\n",
       "│ gru_2 (\u001b[38;5;33mGRU\u001b[0m)                     │ (\u001b[38;5;45mNone\u001b[0m, \u001b[38;5;34m50\u001b[0m, \u001b[38;5;34m50\u001b[0m)         │        \u001b[38;5;34m15,300\u001b[0m │\n",
       "├─────────────────────────────────┼────────────────────────┼───────────────┤\n",
       "│ gru_3 (\u001b[38;5;33mGRU\u001b[0m)                     │ (\u001b[38;5;45mNone\u001b[0m, \u001b[38;5;34m50\u001b[0m)             │        \u001b[38;5;34m15,300\u001b[0m │\n",
       "├─────────────────────────────────┼────────────────────────┼───────────────┤\n",
       "│ dense_7 (\u001b[38;5;33mDense\u001b[0m)                 │ (\u001b[38;5;45mNone\u001b[0m, \u001b[38;5;34m2\u001b[0m)              │           \u001b[38;5;34m102\u001b[0m │\n",
       "└─────────────────────────────────┴────────────────────────┴───────────────┘\n"
      ]
     },
     "metadata": {},
     "output_type": "display_data"
    },
    {
     "data": {
      "text/html": [
       "<pre style=\"white-space:pre;overflow-x:auto;line-height:normal;font-family:Menlo,'DejaVu Sans Mono',consolas,'Courier New',monospace\"><span style=\"font-weight: bold\"> Total params: </span><span style=\"color: #00af00; text-decoration-color: #00af00\">108,206</span> (422.68 KB)\n",
       "</pre>\n"
      ],
      "text/plain": [
       "\u001b[1m Total params: \u001b[0m\u001b[38;5;34m108,206\u001b[0m (422.68 KB)\n"
      ]
     },
     "metadata": {},
     "output_type": "display_data"
    },
    {
     "data": {
      "text/html": [
       "<pre style=\"white-space:pre;overflow-x:auto;line-height:normal;font-family:Menlo,'DejaVu Sans Mono',consolas,'Courier New',monospace\"><span style=\"font-weight: bold\"> Trainable params: </span><span style=\"color: #00af00; text-decoration-color: #00af00\">54,102</span> (211.34 KB)\n",
       "</pre>\n"
      ],
      "text/plain": [
       "\u001b[1m Trainable params: \u001b[0m\u001b[38;5;34m54,102\u001b[0m (211.34 KB)\n"
      ]
     },
     "metadata": {},
     "output_type": "display_data"
    },
    {
     "data": {
      "text/html": [
       "<pre style=\"white-space:pre;overflow-x:auto;line-height:normal;font-family:Menlo,'DejaVu Sans Mono',consolas,'Courier New',monospace\"><span style=\"font-weight: bold\"> Non-trainable params: </span><span style=\"color: #00af00; text-decoration-color: #00af00\">0</span> (0.00 B)\n",
       "</pre>\n"
      ],
      "text/plain": [
       "\u001b[1m Non-trainable params: \u001b[0m\u001b[38;5;34m0\u001b[0m (0.00 B)\n"
      ]
     },
     "metadata": {},
     "output_type": "display_data"
    },
    {
     "data": {
      "text/html": [
       "<pre style=\"white-space:pre;overflow-x:auto;line-height:normal;font-family:Menlo,'DejaVu Sans Mono',consolas,'Courier New',monospace\"><span style=\"font-weight: bold\"> Optimizer params: </span><span style=\"color: #00af00; text-decoration-color: #00af00\">54,104</span> (211.35 KB)\n",
       "</pre>\n"
      ],
      "text/plain": [
       "\u001b[1m Optimizer params: \u001b[0m\u001b[38;5;34m54,104\u001b[0m (211.35 KB)\n"
      ]
     },
     "metadata": {},
     "output_type": "display_data"
    },
    {
     "name": "stdout",
     "output_type": "stream",
     "text": [
      "Epoch 1/4\n",
      "\u001b[1m358/358\u001b[0m \u001b[32m━━━━━━━━━━━━━━━━━━━━\u001b[0m\u001b[37m\u001b[0m \u001b[1m11s\u001b[0m 27ms/step - loss: 0.0137\n",
      "Epoch 2/4\n",
      "\u001b[1m358/358\u001b[0m \u001b[32m━━━━━━━━━━━━━━━━━━━━\u001b[0m\u001b[37m\u001b[0m \u001b[1m10s\u001b[0m 27ms/step - loss: 0.0151\n",
      "Epoch 3/4\n",
      "\u001b[1m358/358\u001b[0m \u001b[32m━━━━━━━━━━━━━━━━━━━━\u001b[0m\u001b[37m\u001b[0m \u001b[1m10s\u001b[0m 27ms/step - loss: 0.0145\n",
      "Epoch 4/4\n",
      "\u001b[1m358/358\u001b[0m \u001b[32m━━━━━━━━━━━━━━━━━━━━\u001b[0m\u001b[37m\u001b[0m \u001b[1m10s\u001b[0m 27ms/step - loss: 0.0142\n"
     ]
    },
    {
     "data": {
      "text/html": [
       "<pre style=\"white-space:pre;overflow-x:auto;line-height:normal;font-family:Menlo,'DejaVu Sans Mono',consolas,'Courier New',monospace\"><span style=\"font-weight: bold\">Model: \"sequential_4\"</span>\n",
       "</pre>\n"
      ],
      "text/plain": [
       "\u001b[1mModel: \"sequential_4\"\u001b[0m\n"
      ]
     },
     "metadata": {},
     "output_type": "display_data"
    },
    {
     "data": {
      "text/html": [
       "<pre style=\"white-space:pre;overflow-x:auto;line-height:normal;font-family:Menlo,'DejaVu Sans Mono',consolas,'Courier New',monospace\">┏━━━━━━━━━━━━━━━━━━━━━━━━━━━━━━━━━┳━━━━━━━━━━━━━━━━━━━━━━━━┳━━━━━━━━━━━━━━━┓\n",
       "┃<span style=\"font-weight: bold\"> Layer (type)                    </span>┃<span style=\"font-weight: bold\"> Output Shape           </span>┃<span style=\"font-weight: bold\">       Param # </span>┃\n",
       "┡━━━━━━━━━━━━━━━━━━━━━━━━━━━━━━━━━╇━━━━━━━━━━━━━━━━━━━━━━━━╇━━━━━━━━━━━━━━━┩\n",
       "│ gru (<span style=\"color: #0087ff; text-decoration-color: #0087ff\">GRU</span>)                       │ (<span style=\"color: #00d7ff; text-decoration-color: #00d7ff\">None</span>, <span style=\"color: #00af00; text-decoration-color: #00af00\">50</span>, <span style=\"color: #00af00; text-decoration-color: #00af00\">50</span>)         │         <span style=\"color: #00af00; text-decoration-color: #00af00\">8,100</span> │\n",
       "├─────────────────────────────────┼────────────────────────┼───────────────┤\n",
       "│ dropout_1 (<span style=\"color: #0087ff; text-decoration-color: #0087ff\">Dropout</span>)             │ (<span style=\"color: #00d7ff; text-decoration-color: #00d7ff\">None</span>, <span style=\"color: #00af00; text-decoration-color: #00af00\">50</span>, <span style=\"color: #00af00; text-decoration-color: #00af00\">50</span>)         │             <span style=\"color: #00af00; text-decoration-color: #00af00\">0</span> │\n",
       "├─────────────────────────────────┼────────────────────────┼───────────────┤\n",
       "│ gru_1 (<span style=\"color: #0087ff; text-decoration-color: #0087ff\">GRU</span>)                     │ (<span style=\"color: #00d7ff; text-decoration-color: #00d7ff\">None</span>, <span style=\"color: #00af00; text-decoration-color: #00af00\">50</span>, <span style=\"color: #00af00; text-decoration-color: #00af00\">50</span>)         │        <span style=\"color: #00af00; text-decoration-color: #00af00\">15,300</span> │\n",
       "├─────────────────────────────────┼────────────────────────┼───────────────┤\n",
       "│ gru_2 (<span style=\"color: #0087ff; text-decoration-color: #0087ff\">GRU</span>)                     │ (<span style=\"color: #00d7ff; text-decoration-color: #00d7ff\">None</span>, <span style=\"color: #00af00; text-decoration-color: #00af00\">50</span>, <span style=\"color: #00af00; text-decoration-color: #00af00\">50</span>)         │        <span style=\"color: #00af00; text-decoration-color: #00af00\">15,300</span> │\n",
       "├─────────────────────────────────┼────────────────────────┼───────────────┤\n",
       "│ gru_3 (<span style=\"color: #0087ff; text-decoration-color: #0087ff\">GRU</span>)                     │ (<span style=\"color: #00d7ff; text-decoration-color: #00d7ff\">None</span>, <span style=\"color: #00af00; text-decoration-color: #00af00\">50</span>)             │        <span style=\"color: #00af00; text-decoration-color: #00af00\">15,300</span> │\n",
       "├─────────────────────────────────┼────────────────────────┼───────────────┤\n",
       "│ dense_7 (<span style=\"color: #0087ff; text-decoration-color: #0087ff\">Dense</span>)                 │ (<span style=\"color: #00d7ff; text-decoration-color: #00d7ff\">None</span>, <span style=\"color: #00af00; text-decoration-color: #00af00\">2</span>)              │           <span style=\"color: #00af00; text-decoration-color: #00af00\">102</span> │\n",
       "└─────────────────────────────────┴────────────────────────┴───────────────┘\n",
       "</pre>\n"
      ],
      "text/plain": [
       "┏━━━━━━━━━━━━━━━━━━━━━━━━━━━━━━━━━┳━━━━━━━━━━━━━━━━━━━━━━━━┳━━━━━━━━━━━━━━━┓\n",
       "┃\u001b[1m \u001b[0m\u001b[1mLayer (type)                   \u001b[0m\u001b[1m \u001b[0m┃\u001b[1m \u001b[0m\u001b[1mOutput Shape          \u001b[0m\u001b[1m \u001b[0m┃\u001b[1m \u001b[0m\u001b[1m      Param #\u001b[0m\u001b[1m \u001b[0m┃\n",
       "┡━━━━━━━━━━━━━━━━━━━━━━━━━━━━━━━━━╇━━━━━━━━━━━━━━━━━━━━━━━━╇━━━━━━━━━━━━━━━┩\n",
       "│ gru (\u001b[38;5;33mGRU\u001b[0m)                       │ (\u001b[38;5;45mNone\u001b[0m, \u001b[38;5;34m50\u001b[0m, \u001b[38;5;34m50\u001b[0m)         │         \u001b[38;5;34m8,100\u001b[0m │\n",
       "├─────────────────────────────────┼────────────────────────┼───────────────┤\n",
       "│ dropout_1 (\u001b[38;5;33mDropout\u001b[0m)             │ (\u001b[38;5;45mNone\u001b[0m, \u001b[38;5;34m50\u001b[0m, \u001b[38;5;34m50\u001b[0m)         │             \u001b[38;5;34m0\u001b[0m │\n",
       "├─────────────────────────────────┼────────────────────────┼───────────────┤\n",
       "│ gru_1 (\u001b[38;5;33mGRU\u001b[0m)                     │ (\u001b[38;5;45mNone\u001b[0m, \u001b[38;5;34m50\u001b[0m, \u001b[38;5;34m50\u001b[0m)         │        \u001b[38;5;34m15,300\u001b[0m │\n",
       "├─────────────────────────────────┼────────────────────────┼───────────────┤\n",
       "│ gru_2 (\u001b[38;5;33mGRU\u001b[0m)                     │ (\u001b[38;5;45mNone\u001b[0m, \u001b[38;5;34m50\u001b[0m, \u001b[38;5;34m50\u001b[0m)         │        \u001b[38;5;34m15,300\u001b[0m │\n",
       "├─────────────────────────────────┼────────────────────────┼───────────────┤\n",
       "│ gru_3 (\u001b[38;5;33mGRU\u001b[0m)                     │ (\u001b[38;5;45mNone\u001b[0m, \u001b[38;5;34m50\u001b[0m)             │        \u001b[38;5;34m15,300\u001b[0m │\n",
       "├─────────────────────────────────┼────────────────────────┼───────────────┤\n",
       "│ dense_7 (\u001b[38;5;33mDense\u001b[0m)                 │ (\u001b[38;5;45mNone\u001b[0m, \u001b[38;5;34m2\u001b[0m)              │           \u001b[38;5;34m102\u001b[0m │\n",
       "└─────────────────────────────────┴────────────────────────┴───────────────┘\n"
      ]
     },
     "metadata": {},
     "output_type": "display_data"
    },
    {
     "data": {
      "text/html": [
       "<pre style=\"white-space:pre;overflow-x:auto;line-height:normal;font-family:Menlo,'DejaVu Sans Mono',consolas,'Courier New',monospace\"><span style=\"font-weight: bold\"> Total params: </span><span style=\"color: #00af00; text-decoration-color: #00af00\">108,206</span> (422.68 KB)\n",
       "</pre>\n"
      ],
      "text/plain": [
       "\u001b[1m Total params: \u001b[0m\u001b[38;5;34m108,206\u001b[0m (422.68 KB)\n"
      ]
     },
     "metadata": {},
     "output_type": "display_data"
    },
    {
     "data": {
      "text/html": [
       "<pre style=\"white-space:pre;overflow-x:auto;line-height:normal;font-family:Menlo,'DejaVu Sans Mono',consolas,'Courier New',monospace\"><span style=\"font-weight: bold\"> Trainable params: </span><span style=\"color: #00af00; text-decoration-color: #00af00\">54,102</span> (211.34 KB)\n",
       "</pre>\n"
      ],
      "text/plain": [
       "\u001b[1m Trainable params: \u001b[0m\u001b[38;5;34m54,102\u001b[0m (211.34 KB)\n"
      ]
     },
     "metadata": {},
     "output_type": "display_data"
    },
    {
     "data": {
      "text/html": [
       "<pre style=\"white-space:pre;overflow-x:auto;line-height:normal;font-family:Menlo,'DejaVu Sans Mono',consolas,'Courier New',monospace\"><span style=\"font-weight: bold\"> Non-trainable params: </span><span style=\"color: #00af00; text-decoration-color: #00af00\">0</span> (0.00 B)\n",
       "</pre>\n"
      ],
      "text/plain": [
       "\u001b[1m Non-trainable params: \u001b[0m\u001b[38;5;34m0\u001b[0m (0.00 B)\n"
      ]
     },
     "metadata": {},
     "output_type": "display_data"
    },
    {
     "data": {
      "text/html": [
       "<pre style=\"white-space:pre;overflow-x:auto;line-height:normal;font-family:Menlo,'DejaVu Sans Mono',consolas,'Courier New',monospace\"><span style=\"font-weight: bold\"> Optimizer params: </span><span style=\"color: #00af00; text-decoration-color: #00af00\">54,104</span> (211.35 KB)\n",
       "</pre>\n"
      ],
      "text/plain": [
       "\u001b[1m Optimizer params: \u001b[0m\u001b[38;5;34m54,104\u001b[0m (211.35 KB)\n"
      ]
     },
     "metadata": {},
     "output_type": "display_data"
    },
    {
     "name": "stdout",
     "output_type": "stream",
     "text": [
      "\u001b[1m5/5\u001b[0m \u001b[32m━━━━━━━━━━━━━━━━━━━━\u001b[0m\u001b[37m\u001b[0m \u001b[1m1s\u001b[0m 75ms/step\n"
     ]
    }
   ],
   "source": [
    "res = test_RNN(data)"
   ]
  },
  {
   "cell_type": "code",
   "execution_count": 24,
   "id": "c6ef987f-02df-4a01-9439-19f519bc5f15",
   "metadata": {},
   "outputs": [],
   "source": [
    "rnn, lstm, gru = res"
   ]
  },
  {
   "cell_type": "code",
   "execution_count": 25,
   "id": "08562686-861d-43b8-b135-1f940bd0e0d4",
   "metadata": {},
   "outputs": [
    {
     "data": {
      "text/plain": [
       "(array([[0.4142178 , 0.81649834],\n",
       "        [0.42149767, 0.8095331 ],\n",
       "        [0.43737537, 0.80800295],\n",
       "        [0.44293565, 0.8026523 ],\n",
       "        [0.4404083 , 0.7950871 ],\n",
       "        [0.44330466, 0.7872809 ],\n",
       "        [0.44246483, 0.7772736 ],\n",
       "        [0.4405769 , 0.7666164 ],\n",
       "        [0.44054663, 0.75268006],\n",
       "        [0.4460732 , 0.74257493],\n",
       "        [0.45292535, 0.72833735],\n",
       "        [0.45742565, 0.7155379 ],\n",
       "        [0.46385142, 0.7055834 ],\n",
       "        [0.46883288, 0.70102704],\n",
       "        [0.47171363, 0.6941316 ],\n",
       "        [0.47443596, 0.6886326 ],\n",
       "        [0.474678  , 0.6857854 ],\n",
       "        [0.47210515, 0.68452954],\n",
       "        [0.47269598, 0.684839  ],\n",
       "        [0.47543353, 0.6839734 ],\n",
       "        [0.47748083, 0.68636084],\n",
       "        [0.4756247 , 0.6883514 ],\n",
       "        [0.47175288, 0.69185865],\n",
       "        [0.47147557, 0.6947849 ],\n",
       "        [0.47096306, 0.6994424 ],\n",
       "        [0.47067738, 0.7035903 ],\n",
       "        [0.47008407, 0.7082492 ],\n",
       "        [0.46879596, 0.71221054],\n",
       "        [0.46741143, 0.71454245],\n",
       "        [0.46657643, 0.71641266],\n",
       "        [0.46490267, 0.71705306],\n",
       "        [0.4635913 , 0.71626735],\n",
       "        [0.46350747, 0.7151874 ],\n",
       "        [0.46385828, 0.7152998 ],\n",
       "        [0.4656682 , 0.71472806],\n",
       "        [0.46739608, 0.7151235 ],\n",
       "        [0.4702536 , 0.7156115 ],\n",
       "        [0.47064278, 0.7160173 ],\n",
       "        [0.46866727, 0.7155689 ],\n",
       "        [0.46689352, 0.71581423],\n",
       "        [0.46530342, 0.7147499 ],\n",
       "        [0.4648128 , 0.7109048 ],\n",
       "        [0.4619573 , 0.7049743 ],\n",
       "        [0.45749667, 0.6989219 ],\n",
       "        [0.4562567 , 0.6923826 ],\n",
       "        [0.46219257, 0.6863469 ],\n",
       "        [0.4710701 , 0.6822393 ],\n",
       "        [0.47719917, 0.67878973],\n",
       "        [0.47978717, 0.6788269 ],\n",
       "        [0.4798131 , 0.6772141 ],\n",
       "        [0.4800952 , 0.67425036],\n",
       "        [0.48087987, 0.6738955 ],\n",
       "        [0.47861204, 0.6761421 ],\n",
       "        [0.47646782, 0.67863286],\n",
       "        [0.47753426, 0.6814791 ],\n",
       "        [0.4779519 , 0.6855767 ],\n",
       "        [0.4743103 , 0.6893029 ],\n",
       "        [0.47144595, 0.6938743 ],\n",
       "        [0.47069755, 0.6978055 ],\n",
       "        [0.47062007, 0.7001487 ],\n",
       "        [0.47154662, 0.7042601 ],\n",
       "        [0.46950075, 0.7089944 ],\n",
       "        [0.46882233, 0.7108139 ],\n",
       "        [0.46843114, 0.71109414],\n",
       "        [0.46514612, 0.7104699 ],\n",
       "        [0.46299073, 0.70944256],\n",
       "        [0.46312472, 0.7086674 ],\n",
       "        [0.46573102, 0.7072997 ],\n",
       "        [0.4686151 , 0.70436025],\n",
       "        [0.4697157 , 0.70186883],\n",
       "        [0.4669628 , 0.6978054 ],\n",
       "        [0.4639308 , 0.69196963],\n",
       "        [0.46595967, 0.68850493],\n",
       "        [0.4700183 , 0.68389475],\n",
       "        [0.4731061 , 0.67877555],\n",
       "        [0.47400594, 0.6744518 ],\n",
       "        [0.40528584, 0.65460145],\n",
       "        [0.33161536, 0.6238899 ],\n",
       "        [0.349581  , 0.60869545],\n",
       "        [0.45411015, 0.633103  ],\n",
       "        [0.5246709 , 0.6700984 ],\n",
       "        [0.5373109 , 0.6894454 ],\n",
       "        [0.5420168 , 0.6815696 ],\n",
       "        [0.50057817, 0.6609678 ],\n",
       "        [0.44378036, 0.65135133],\n",
       "        [0.43236616, 0.6448617 ],\n",
       "        [0.4541549 , 0.64154005],\n",
       "        [0.48694876, 0.64740074],\n",
       "        [0.5045198 , 0.6581181 ],\n",
       "        [0.5042459 , 0.66491836],\n",
       "        [0.4976436 , 0.6711628 ],\n",
       "        [0.48987165, 0.6689534 ],\n",
       "        [0.4774257 , 0.6719893 ],\n",
       "        [0.46429434, 0.6712519 ],\n",
       "        [0.4592621 , 0.6729669 ],\n",
       "        [0.4685831 , 0.6710068 ],\n",
       "        [0.4837437 , 0.6722113 ],\n",
       "        [0.49205786, 0.6831727 ],\n",
       "        [0.48926497, 0.68937624],\n",
       "        [0.477515  , 0.68894327],\n",
       "        [0.471292  , 0.6871306 ],\n",
       "        [0.46618223, 0.6899061 ],\n",
       "        [0.46111706, 0.6882088 ],\n",
       "        [0.46526465, 0.69215465],\n",
       "        [0.47442302, 0.6949347 ],\n",
       "        [0.4788436 , 0.6983131 ],\n",
       "        [0.5436913 , 0.71620506],\n",
       "        [0.6207073 , 0.74844056],\n",
       "        [0.678841  , 0.7810946 ],\n",
       "        [0.6950629 , 0.7705055 ],\n",
       "        [0.7069863 , 0.7676016 ],\n",
       "        [0.67152345, 0.7605057 ],\n",
       "        [0.6314    , 0.78608084],\n",
       "        [0.5552845 , 0.79630554],\n",
       "        [0.5560922 , 0.8159721 ],\n",
       "        [0.4853815 , 0.7964906 ],\n",
       "        [0.4842654 , 0.8049045 ],\n",
       "        [0.49726835, 0.80932665],\n",
       "        [0.45563942, 0.81602997],\n",
       "        [0.45002934, 0.7914155 ],\n",
       "        [0.43861055, 0.77612585],\n",
       "        [0.43463618, 0.7543899 ],\n",
       "        [0.42808816, 0.7395174 ],\n",
       "        [0.43186033, 0.7227882 ],\n",
       "        [0.4485614 , 0.7179377 ],\n",
       "        [0.4674477 , 0.7133019 ],\n",
       "        [0.47459495, 0.71149856],\n",
       "        [0.47486347, 0.7110286 ],\n",
       "        [0.46967232, 0.70099306],\n",
       "        [0.46719217, 0.7026017 ],\n",
       "        [0.46663144, 0.6884435 ],\n",
       "        [0.46767405, 0.6928371 ],\n",
       "        [0.4712856 , 0.68567467],\n",
       "        [0.47142413, 0.6883414 ],\n",
       "        [0.4753069 , 0.6838968 ],\n",
       "        [0.47835112, 0.6871324 ],\n",
       "        [0.47428888, 0.6857692 ],\n",
       "        [0.46935582, 0.68572146],\n",
       "        [0.47027063, 0.691153  ],\n",
       "        [0.47110775, 0.6904067 ],\n",
       "        [0.475127  , 0.69721484],\n",
       "        [0.4758199 , 0.6973984 ]], dtype=float32),\n",
       " array([[0.5       , 0.7807707 ],\n",
       "        [0.5       , 0.7683296 ],\n",
       "        [0.5       , 0.76035758],\n",
       "        [0.5       , 0.72484601],\n",
       "        [0.5       , 0.66131184],\n",
       "        [0.5       , 0.65019922],\n",
       "        [0.5       , 0.67459836],\n",
       "        [0.5       , 0.66614327],\n",
       "        [0.5       , 0.66481459],\n",
       "        [0.5       , 0.66360665],\n",
       "        [0.5       , 0.67025   ],\n",
       "        [0.5       , 0.67012928],\n",
       "        [0.5       , 0.64899146],\n",
       "        [0.5       , 0.6586545 ],\n",
       "        [0.5       , 0.66553929],\n",
       "        [0.5       , 0.67870509],\n",
       "        [0.5       , 0.68873047],\n",
       "        [0.5       , 0.69646087],\n",
       "        [0.5       , 0.6951322 ],\n",
       "        [0.5       , 0.70189646],\n",
       "        [0.5       , 0.69935984],\n",
       "        [0.5       , 0.70201718],\n",
       "        [0.5       , 0.72400041],\n",
       "        [0.5       , 0.72436294],\n",
       "        [0.5       , 0.70431217],\n",
       "        [0.5       , 0.70672788],\n",
       "        [0.5       , 0.70407054],\n",
       "        [0.5       , 0.69646087],\n",
       "        [0.5       , 0.70044688],\n",
       "        [0.5       , 0.69404516],\n",
       "        [0.5       , 0.68921373],\n",
       "        [0.5       , 0.69259576],\n",
       "        [0.5       , 0.70286259],\n",
       "        [0.5       , 0.72557071],\n",
       "        [0.5       , 0.7092645 ],\n",
       "        [0.5       , 0.70672788],\n",
       "        [0.5       , 0.70527849],\n",
       "        [0.5       , 0.70576156],\n",
       "        [0.5       , 0.69766882],\n",
       "        [0.5       , 0.64669646],\n",
       "        [0.5       , 0.61142653],\n",
       "        [0.5       , 0.6120305 ],\n",
       "        [0.5       , 0.63896607],\n",
       "        [0.5       , 0.63944914],\n",
       "        [0.5       , 0.66783428],\n",
       "        [0.5       , 0.67785967],\n",
       "        [0.5       , 0.67483998],\n",
       "        [0.5       , 0.67641028],\n",
       "        [0.5       , 0.67049162],\n",
       "        [0.5       , 0.67157867],\n",
       "        [0.5       , 0.69609852],\n",
       "        [0.5       , 0.6951322 ],\n",
       "        [0.5       , 0.68100008],\n",
       "        [0.5       , 0.68329507],\n",
       "        [0.5       , 0.71373358],\n",
       "        [0.5       , 0.70358747],\n",
       "        [0.5       , 0.70769421],\n",
       "        [0.5       , 0.70781493],\n",
       "        [0.5       , 0.70237953],\n",
       "        [0.5       , 0.72424204],\n",
       "        [0.5       , 0.68377833],\n",
       "        [0.5       , 0.67870509],\n",
       "        [0.5       , 0.68764343],\n",
       "        [0.5       , 0.67737642],\n",
       "        [0.5       , 0.68414067],\n",
       "        [0.5       , 0.69718575],\n",
       "        [0.5       , 0.68522772],\n",
       "        [0.5       , 0.63932842],\n",
       "        [0.5       , 0.63618801],\n",
       "        [0.5       , 0.65032013],\n",
       "        [0.5       , 0.66360665],\n",
       "        [0.5       , 0.65611788],\n",
       "        [0.5       , 0.63304741],\n",
       "        [0.5       , 0.63051098],\n",
       "        [0.5       , 0.63461771],\n",
       "        [0.        , 0.61541254],\n",
       "        [0.        , 0.6065951 ],\n",
       "        [0.5       , 0.64162341],\n",
       "        [0.5       , 0.64609249],\n",
       "        [0.5       , 0.65539318],\n",
       "        [0.5       , 0.64609249],\n",
       "        [0.5       , 0.65140717],\n",
       "        [0.5       , 0.64089871],\n",
       "        [0.5       , 0.64174413],\n",
       "        [0.5       , 0.63799975],\n",
       "        [0.5       , 0.64693809],\n",
       "        [0.5       , 0.68232875],\n",
       "        [0.5       , 0.68728108],\n",
       "        [0.5       , 0.65503083],\n",
       "        [0.5       , 0.6500785 ],\n",
       "        [0.5       , 0.65648023],\n",
       "        [0.5       , 0.67399438],\n",
       "        [0.5       , 0.67218264],\n",
       "        [0.5       , 0.68450302],\n",
       "        [0.5       , 0.69851424],\n",
       "        [0.5       , 0.68341579],\n",
       "        [0.5       , 0.68873047],\n",
       "        [0.5       , 0.68824741],\n",
       "        [0.5       , 0.67097469],\n",
       "        [0.5       , 0.68148333],\n",
       "        [0.5       , 0.67713497],\n",
       "        [0.5       , 0.66034552],\n",
       "        [0.5       , 0.68305345],\n",
       "        [0.5       , 0.70950595],\n",
       "        [0.5       , 0.71687399],\n",
       "        [1.        , 0.7270201 ],\n",
       "        [1.        , 0.74948659],\n",
       "        [1.        , 0.76120299],\n",
       "        [1.        , 0.76518901],\n",
       "        [1.        , 0.76192769],\n",
       "        [0.5       , 0.74670853],\n",
       "        [1.        , 0.76579298],\n",
       "        [0.5       , 0.75902891],\n",
       "        [0.5       , 0.74296414],\n",
       "        [0.5       , 0.69621943],\n",
       "        [0.5       , 0.67858437],\n",
       "        [0.5       , 0.67665172],\n",
       "        [0.5       , 0.67339059],\n",
       "        [0.5       , 0.67061234],\n",
       "        [0.5       , 0.6570842 ],\n",
       "        [0.5       , 0.66505622],\n",
       "        [0.5       , 0.65394379],\n",
       "        [0.5       , 0.67073325],\n",
       "        [0.5       , 0.66578092],\n",
       "        [0.5       , 0.67290734],\n",
       "        [0.5       , 0.67399438],\n",
       "        [0.5       , 0.66167419],\n",
       "        [0.5       , 0.67012928],\n",
       "        [0.5       , 0.67520233],\n",
       "        [0.5       , 0.6563595 ],\n",
       "        [0.5       , 0.66493532],\n",
       "        [0.5       , 0.68921373],\n",
       "        [0.5       , 0.68486537],\n",
       "        [0.5       , 0.67628937],\n",
       "        [0.5       , 0.67544396],\n",
       "        [0.5       , 0.6944075 ],\n",
       "        [0.5       , 0.69899749],\n",
       "        [0.5       , 0.70382892],\n",
       "        [0.5       , 0.69501148],\n",
       "        [0.5       , 0.6944075 ],\n",
       "        [0.5       , 0.70902288],\n",
       "        [0.5       , 0.72303427]]))"
      ]
     },
     "execution_count": 25,
     "metadata": {},
     "output_type": "execute_result"
    }
   ],
   "source": [
    "rnn"
   ]
  },
  {
   "cell_type": "code",
   "execution_count": 26,
   "id": "fd6930af-c0b0-4392-b2b2-255f4a9dcae2",
   "metadata": {},
   "outputs": [
    {
     "data": {
      "text/plain": [
       "<matplotlib.legend.Legend at 0x7b9cbbe0e750>"
      ]
     },
     "execution_count": 26,
     "metadata": {},
     "output_type": "execute_result"
    },
    {
     "data": {
      "image/png": "[encoded data removed]",
      "text/plain": [
       "<Figure size 640x480 with 1 Axes>"
      ]
     },
     "metadata": {},
     "output_type": "display_data"
    }
   ],
   "source": [
    "pred = [y[1] for y in scaler1.inverse_transform(rnn[0])]\n",
    "test = [y[1] for y in scaler1.inverse_transform(rnn[1])]\n",
    "plt.plot(pred, label='RNN')\n",
    "plt.plot(test, label='real')\n",
    "plt.legend(loc='best')"
   ]
  },
  {
   "cell_type": "code",
   "execution_count": 27,
   "id": "539352ec-597c-4528-9453-c315ba768998",
   "metadata": {},
   "outputs": [
    {
     "data": {
      "text/plain": [
       "<matplotlib.legend.Legend at 0x7b9cbb9c4cb0>"
      ]
     },
     "execution_count": 27,
     "metadata": {},
     "output_type": "execute_result"
    },
    {
     "data": {
      "image/png": "[encoded data removed]",
      "text/plain": [
       "<Figure size 640x480 with 1 Axes>"
      ]
     },
     "metadata": {},
     "output_type": "display_data"
    }
   ],
   "source": [
    "pred = [y[1] for y in scaler1.inverse_transform(lstm[0])]\n",
    "test = [y[1] for y in scaler1.inverse_transform(lstm[1])]\n",
    "plt.plot(pred, label='lstm')\n",
    "plt.plot(test, label='real')\n",
    "plt.legend(loc='best')"
   ]
  },
  {
   "cell_type": "code",
   "execution_count": 28,
   "id": "ef0785b1-5a13-40a9-8d35-f8b8e8116027",
   "metadata": {},
   "outputs": [
    {
     "data": {
      "text/plain": [
       "<matplotlib.legend.Legend at 0x7b9cbba61a00>"
      ]
     },
     "execution_count": 28,
     "metadata": {},
     "output_type": "execute_result"
    },
    {
     "data": {
      "image/png": "[encoded data removed]",
      "text/plain": [
       "<Figure size 640x480 with 1 Axes>"
      ]
     },
     "metadata": {},
     "output_type": "display_data"
    }
   ],
   "source": [
    "pred = [y[1] for y in scaler1.inverse_transform(gru[0])]\n",
    "test = [y[1] for y in scaler1.inverse_transform(gru[1])]\n",
    "plt.plot(pred, label='gru')\n",
    "plt.plot(test, label='real')\n",
    "plt.legend(loc='best')"
   ]
  },
  {
   "cell_type": "code",
   "execution_count": null,
   "id": "b31563bf-c6a3-43ce-bed5-b1617f7c5359",
   "metadata": {},
   "outputs": [],
   "source": []
  },
  {
   "cell_type": "code",
   "execution_count": null,
   "id": "8748d879-198c-405e-9eb4-5b0f7e076352",
   "metadata": {},
   "outputs": [],
   "source": []
  }
 ],
 "metadata": {
  "kernelspec": {
   "display_name": "Python 3 (ipykernel)",
   "language": "python",
   "name": "python3"
  },
  "language_info": {
   "codemirror_mode": {
    "name": "ipython",
    "version": 3
   },
   "file_extension": ".py",
   "mimetype": "text/x-python",
   "name": "python",
   "nbconvert_exporter": "python",
   "pygments_lexer": "ipython3",
   "version": "3.12.2"
  }
 },
 "nbformat": 4,
 "nbformat_minor": 5
}
